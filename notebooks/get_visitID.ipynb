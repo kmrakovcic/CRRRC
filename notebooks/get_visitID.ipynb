{
 "cells": [
  {
   "cell_type": "code",
   "execution_count": 1,
   "id": "497f3d06-d65b-4a0c-a21b-1b4621b4a2b6",
   "metadata": {
    "execution": {
     "iopub.execute_input": "2024-10-08T11:56:42.828131Z",
     "iopub.status.busy": "2024-10-08T11:56:42.827514Z",
     "iopub.status.idle": "2024-10-08T11:56:45.398444Z",
     "shell.execute_reply": "2024-10-08T11:56:45.397983Z",
     "shell.execute_reply.started": "2024-10-08T11:56:42.828114Z"
    },
    "tags": []
   },
   "outputs": [
    {
     "name": "stdout",
     "output_type": "stream",
     "text": [
      "lsst.daf.butler.script.queryDatasets INFO: Filtered 3574 dataset types down to 1\n",
      "\n",
      "\u001b[0;31mtype        run                          id                  instrument detector    exposure   band day_obs          group          physical_filter\u001b[0m\n",
      "\u001b[0;31m---- ------------------ ------------------------------------ ---------- -------- ------------- ---- -------- ---------------------- ---------------\u001b[0m\n",
      " raw LSSTComCam/raw/all 38b7e0dd-e199-55e7-a88c-c25a4245cdcd LSSTComCam        0 2024080600138    g 20240806 BT68_O_20240806_000004            g_01\n",
      " raw LSSTComCam/raw/all 50e4eecf-990c-560f-a62c-45889ab62194 LSSTComCam        1 2024080600138    g 20240806 BT68_O_20240806_000004            g_01\n",
      " raw LSSTComCam/raw/all 5cc766db-880d-557a-b56a-0400aa5f2709 LSSTComCam        2 2024080600138    g 20240806 BT68_O_20240806_000004            g_01\n",
      " raw LSSTComCam/raw/all fae8919f-28dc-55fd-9301-d785f54f6d7c LSSTComCam        3 2024080600138    g 20240806 BT68_O_20240806_000004            g_01\n",
      " raw LSSTComCam/raw/all 2e98bd81-3924-5341-afd0-5b233bb78c93 LSSTComCam        4 2024080600138    g 20240806 BT68_O_20240806_000004            g_01\n",
      " raw LSSTComCam/raw/all a4016c8e-a265-56ac-8985-3554660ccdd5 LSSTComCam        5 2024080600138    g 20240806 BT68_O_20240806_000004            g_01\n",
      " raw LSSTComCam/raw/all ee76ead1-6058-54bf-b4cd-06b4a20494e9 LSSTComCam        6 2024080600138    g 20240806 BT68_O_20240806_000004            g_01\n",
      " raw LSSTComCam/raw/all 29907555-03d5-5861-8296-864d02adf36a LSSTComCam        7 2024080600138    g 20240806 BT68_O_20240806_000004            g_01\n",
      " raw LSSTComCam/raw/all f2ecd2fd-8b04-524c-89f5-040fda97a0f5 LSSTComCam        8 2024080600138    g 20240806 BT68_O_20240806_000004            g_01\n",
      "\n"
     ]
    }
   ],
   "source": [
    "!butler query-datasets /repo/embargo --collections LSSTComCam/raw/all --where \"instrument='LSSTComCam' AND day_obs=20240806 AND exposure=2024080600138\""
   ]
  },
  {
   "cell_type": "code",
   "execution_count": 71,
   "id": "4412e084-207e-4c2f-b38a-3addd786d81c",
   "metadata": {
    "execution": {
     "iopub.execute_input": "2024-10-08T17:55:48.619399Z",
     "iopub.status.busy": "2024-10-08T17:55:48.619201Z",
     "iopub.status.idle": "2024-10-08T17:55:48.684859Z",
     "shell.execute_reply": "2024-10-08T17:55:48.684526Z",
     "shell.execute_reply.started": "2024-10-08T17:55:48.619386Z"
    }
   },
   "outputs": [],
   "source": [
    "import lsst.daf.butler as butler\n",
    "from lsst.ip.isr import IsrTask\n",
    "from lsst.ip.isr import IsrTaskConfig\n",
    "from lsst.afw.math import makeStatistics\n",
    "from lsst.pipe.tasks.characterizeImage import CharacterizeImageTask\n",
    "from lsst.pipe.base import PipelineTask\n",
    "import json\n",
    "import numpy as np\n",
    "import multiprocessing\n",
    "import logging"
   ]
  },
  {
   "cell_type": "code",
   "execution_count": 72,
   "id": "6eeef872-2c57-4d7e-8d76-c76f8b041415",
   "metadata": {
    "execution": {
     "iopub.execute_input": "2024-10-08T17:55:49.073163Z",
     "iopub.status.busy": "2024-10-08T17:55:49.073013Z",
     "iopub.status.idle": "2024-10-08T17:55:49.080391Z",
     "shell.execute_reply": "2024-10-08T17:55:49.080086Z",
     "shell.execute_reply.started": "2024-10-08T17:55:49.073150Z"
    },
    "scrolled": true
   },
   "outputs": [],
   "source": [
    "import lsst.daf.butler as daf_butler\n",
    "import concurrent.futures\n",
    "import json\n",
    "import logging\n",
    "from itertools import islice\n",
    "\n",
    "# Lower the logging level for LSST translators to suppress warnings\n",
    "logging.getLogger('lsst.obs.lsst.translators.comCam').setLevel(logging.ERROR)\n",
    "\n",
    "repo_path = '/repo/embargo'\n",
    "collection = 'LSSTComCam/raw/all'\n",
    "\n",
    "# Function to create a Butler instance\n",
    "def create_butler(repo_path):\n",
    "    return daf_butler.Butler(repo_path)\n",
    "\n",
    "# Function to convert dataId to a JSON-serializable format using toSimple()\n",
    "def serialize_data_id(data_id):\n",
    "    # Use toSimple() to convert the _FullTupleDataCoordinate into a dictionary\n",
    "    return data_id.to_json()\n",
    "\n",
    "# Function to write data to file immediately\n",
    "def write_to_file(data_ref):\n",
    "    # Serialize the data_ref.dataId using toSimple() to ensure it is JSON-serializable\n",
    "    serializable_data_id = serialize_data_id(data_ref.dataId)\n",
    "    # print(f\"Writing data to file: {serializable_data_id}\")  # Debugging print\n",
    "    with open('outputfile.json', 'a') as fout:\n",
    "        json.dump(serializable_data_id, fout)  # Dump the serialized data_id to file\n",
    "        fout.write('\\n')  # Ensure newline after each entry for readability\n",
    "        fout.flush()  # Flush to ensure data is written immediately\n",
    "\n",
    "# Function to process each data reference with worker-specific Butler access\n",
    "def process_with_butler(data_ref):\n",
    "    try:\n",
    "        butler = create_butler(repo_path)  # Each process will get its own Butler instance\n",
    "        header = butler.get('raw.metadata', collections=collection, dataId=data_ref.dataId)\n",
    "        img_type = header.get('IMGTYPE')\n",
    "        if img_type == \"DARK\":\n",
    "            write_to_file(data_ref)\n",
    "        return data_ref, img_type\n",
    "    except Exception as e:\n",
    "        print(f\"Error retrieving metadata for {data_ref.dataId}: {e}\")\n",
    "        return data_ref, None\n",
    "\n",
    "# Query for raw datasets\n",
    "def query_data_refs():\n",
    "    butler = daf_butler.Butler(repo_path)\n",
    "    data_refs = list(butler.registry.queryDatasets(\n",
    "        datasetType=\"raw\", collections=collection, where=\"instrument='LSSTComCam'\"))\n",
    "    return data_refs\n",
    "\n",
    "# Batch the dataset to reduce memory usage\n",
    "def batched(iterable, n):\n",
    "    \"\"\"Batch data into chunks of size n.\"\"\"\n",
    "    iterator = iter(iterable)\n",
    "    for first in iterator:\n",
    "        yield list(islice(iterator, n - 1))\n",
    "\n",
    "# Main function for parallel processing with memory optimizations and progress tracking\n",
    "def process_darks(batch_size=100, max_workers=2):\n",
    "    data_refs = query_data_refs()\n",
    "    total = len(data_refs)\n",
    "    completed = 0\n",
    "\n",
    "    # Clear file content at the beginning\n",
    "    open('outputfile.json', 'w').close()\n",
    "\n",
    "    # Process data in batches\n",
    "    for batch in batched(data_refs, batch_size):\n",
    "        with concurrent.futures.ProcessPoolExecutor(max_workers=max_workers) as executor:\n",
    "            futures = {executor.submit(process_with_butler, data_ref): data_ref for data_ref in batch}\n",
    "\n",
    "            for future in concurrent.futures.as_completed(futures):\n",
    "                data_ref, img_type = future.result()\n",
    "\n",
    "                # Update and print progress\n",
    "                completed += 1\n",
    "                print(f\"\\rProgress: {completed}/{total} completed ({(completed / total) * 100:.2f}%)\", end=\"\")\n",
    "\n",
    "def read_json_file(file_path):\n",
    "    data_list = []\n",
    "    \n",
    "    with open(file_path, 'r') as f:\n",
    "        for line in f:\n",
    "            try:\n",
    "                # Load each line as a dictionary and append to the list\n",
    "                data = json.loads(json.loads(line.strip()))\n",
    "                data_list.append(data)\n",
    "            except json.JSONDecodeError as e:\n",
    "                print(f\"Error decoding JSON: {e}\")\n",
    "    \n",
    "    return data_list"
   ]
  },
  {
   "cell_type": "code",
   "execution_count": null,
   "id": "45a92096-4065-4fca-b2f7-c891d149ac64",
   "metadata": {
    "execution": {
     "iopub.execute_input": "2024-10-08T17:55:50.289102Z",
     "iopub.status.busy": "2024-10-08T17:55:50.288894Z"
    }
   },
   "outputs": [
    {
     "name": "stdout",
     "output_type": "stream",
     "text": [
      "Progress: 71532/119462 completed (59.88%)"
     ]
    }
   ],
   "source": [
    "process_darks(batch_size=1000, max_workers=4)"
   ]
  },
  {
   "cell_type": "code",
   "execution_count": 53,
   "id": "e2d734e1-3149-41e6-97d2-b1d95b169a9e",
   "metadata": {
    "execution": {
     "iopub.execute_input": "2024-10-08T17:49:23.959178Z",
     "iopub.status.busy": "2024-10-08T17:49:23.958979Z",
     "iopub.status.idle": "2024-10-08T17:49:23.967238Z",
     "shell.execute_reply": "2024-10-08T17:49:23.966856Z",
     "shell.execute_reply.started": "2024-10-08T17:49:23.959165Z"
    }
   },
   "outputs": [],
   "source": [
    "data_refs=read_json_file(\"outputfile.json\")"
   ]
  },
  {
   "cell_type": "code",
   "execution_count": 58,
   "id": "7cfbefb7-ea3d-41d2-9b32-2afe25b5304b",
   "metadata": {
    "execution": {
     "iopub.execute_input": "2024-10-08T17:51:42.540728Z",
     "iopub.status.busy": "2024-10-08T17:51:42.540228Z",
     "iopub.status.idle": "2024-10-08T17:51:43.926244Z",
     "shell.execute_reply": "2024-10-08T17:51:43.925792Z",
     "shell.execute_reply.started": "2024-10-08T17:51:42.540710Z"
    }
   },
   "outputs": [],
   "source": [
    "# Retrieve a single raw exposure and inspect its header\n",
    "repo_path = '/repo/embargo'\n",
    "collection = 'LSSTComCam/raw/all'\n",
    "butler = daf_butler.Butler(repo_path)\n",
    "data_refs = read_json_file(\"outputfile.json\")\n",
    "data_ref = data_refs[1]  # Get the first dataset reference\n",
    "raw = butler.get('raw', collections=collection, dataId=data_ref[\"dataId\"])"
   ]
  },
  {
   "cell_type": "code",
   "execution_count": 70,
   "id": "2b20547a-564a-4769-a051-ad394050c12e",
   "metadata": {
    "execution": {
     "iopub.execute_input": "2024-10-08T17:54:35.540005Z",
     "iopub.status.busy": "2024-10-08T17:54:35.539810Z",
     "iopub.status.idle": "2024-10-08T17:54:36.472302Z",
     "shell.execute_reply": "2024-10-08T17:54:36.471972Z",
     "shell.execute_reply.started": "2024-10-08T17:54:35.539991Z"
    }
   },
   "outputs": [
    {
     "data": {
      "text/plain": [
       "<matplotlib.image.AxesImage at 0x7fc028894b10>"
      ]
     },
     "execution_count": 70,
     "metadata": {},
     "output_type": "execute_result"
    },
    {
     "data": {
      "image/png": "[encoded data removed]",
      "text/plain": [
       "<Figure size 640x480 with 1 Axes>"
      ]
     },
     "metadata": {},
     "output_type": "display_data"
    }
   ],
   "source": [
    "import matplotlib.pyplot as plt\n",
    "plt.imshow(raw.image.array)"
   ]
  },
  {
   "cell_type": "code",
   "execution_count": 66,
   "id": "f98deb48-effc-4861-9721-e825b4f49277",
   "metadata": {
    "execution": {
     "iopub.execute_input": "2024-10-08T17:53:24.539172Z",
     "iopub.status.busy": "2024-10-08T17:53:24.538951Z",
     "iopub.status.idle": "2024-10-08T17:53:24.545120Z",
     "shell.execute_reply": "2024-10-08T17:53:24.544804Z",
     "shell.execute_reply.started": "2024-10-08T17:53:24.539159Z"
    }
   },
   "outputs": [
    {
     "data": {
      "text/plain": [
       "120410.0"
      ]
     },
     "execution_count": 66,
     "metadata": {},
     "output_type": "execute_result"
    }
   ],
   "source": [
    "raw.image.array.max()"
   ]
  },
  {
   "cell_type": "code",
   "execution_count": 29,
   "id": "4f6910a3-cf05-4232-9901-b39ce0f29fba",
   "metadata": {
    "execution": {
     "iopub.execute_input": "2024-10-08T17:37:53.357554Z",
     "iopub.status.busy": "2024-10-08T17:37:53.357351Z",
     "iopub.status.idle": "2024-10-08T17:37:58.552124Z",
     "shell.execute_reply": "2024-10-08T17:37:58.551668Z",
     "shell.execute_reply.started": "2024-10-08T17:37:53.357540Z"
    },
    "scrolled": true
   },
   "outputs": [
    {
     "name": "stdout",
     "output_type": "stream",
     "text": [
      "BIAS\n"
     ]
    }
   ],
   "source": [
    "# Retrieve a single raw exposure and inspect its header\n",
    "repo_path = '/repo/embargo'\n",
    "collection = 'LSSTComCam/raw/all'\n",
    "butler = daf_butler.Butler(repo_path)\n",
    "data_refs = list(butler.registry.queryDatasets(datasetType=\"raw\", collections=collection, where=\"instrument='LSSTComCam'\"))\n",
    "data_ref = list(data_refs)[1029]  # Get the first dataset reference\n",
    "header = butler.get('raw.metadata', collections=collection, dataId=data_ref.dataId)\n",
    "print(header.get('IMGTYPE'))\n"
   ]
  },
  {
   "cell_type": "code",
   "execution_count": 33,
   "id": "d0b0f435-9a6d-4582-bac6-7b5faf0ae198",
   "metadata": {
    "execution": {
     "iopub.execute_input": "2024-10-08T17:40:31.970595Z",
     "iopub.status.busy": "2024-10-08T17:40:31.970416Z",
     "iopub.status.idle": "2024-10-08T17:40:32.171575Z",
     "shell.execute_reply": "2024-10-08T17:40:32.170985Z",
     "shell.execute_reply.started": "2024-10-08T17:40:31.970582Z"
    }
   },
   "outputs": [
    {
     "ename": "ValueError",
     "evalue": "dictionary update sequence element #0 has length 1; 2 is required",
     "output_type": "error",
     "traceback": [
      "\u001b[0;31m---------------------------------------------------------------------------\u001b[0m",
      "\u001b[0;31mValueError\u001b[0m                                Traceback (most recent call last)",
      "Cell \u001b[0;32mIn[33], line 32\u001b[0m\n\u001b[1;32m     29\u001b[0m file_path \u001b[38;5;241m=\u001b[39m \u001b[38;5;124m'\u001b[39m\u001b[38;5;124moutputfile.json\u001b[39m\u001b[38;5;124m'\u001b[39m\n\u001b[1;32m     31\u001b[0m \u001b[38;5;66;03m# Read and reconstruct the data\u001b[39;00m\n\u001b[0;32m---> 32\u001b[0m reconstructed_data_ids \u001b[38;5;241m=\u001b[39m \u001b[43mread_and_reconstruct\u001b[49m\u001b[43m(\u001b[49m\u001b[43mfile_path\u001b[49m\u001b[43m)\u001b[49m\n\u001b[1;32m     34\u001b[0m \u001b[38;5;66;03m# Verify the output (optional print for testing)\u001b[39;00m\n\u001b[1;32m     35\u001b[0m \u001b[38;5;28;01mfor\u001b[39;00m data_id \u001b[38;5;129;01min\u001b[39;00m reconstructed_data_ids:\n",
      "Cell \u001b[0;32mIn[33], line 23\u001b[0m, in \u001b[0;36mread_and_reconstruct\u001b[0;34m(file_path)\u001b[0m\n\u001b[1;32m     21\u001b[0m         serialized_data \u001b[38;5;241m=\u001b[39m json\u001b[38;5;241m.\u001b[39mloads(line)\n\u001b[1;32m     22\u001b[0m         \u001b[38;5;66;03m# Reconstruct the _FullTupleDataCoordinate from the serialized data\u001b[39;00m\n\u001b[0;32m---> 23\u001b[0m         full_tuple_data_id \u001b[38;5;241m=\u001b[39m \u001b[43mreconstruct_data_id\u001b[49m\u001b[43m(\u001b[49m\u001b[43mserialized_data\u001b[49m\u001b[43m)\u001b[49m\n\u001b[1;32m     24\u001b[0m         full_tuple_list\u001b[38;5;241m.\u001b[39mappend(full_tuple_data_id)\n\u001b[1;32m     26\u001b[0m \u001b[38;5;28;01mreturn\u001b[39;00m full_tuple_list\n",
      "Cell \u001b[0;32mIn[33], line 12\u001b[0m, in \u001b[0;36mreconstruct_data_id\u001b[0;34m(serialized_data)\u001b[0m\n\u001b[1;32m     10\u001b[0m \u001b[38;5;250m\u001b[39m\u001b[38;5;124;03m\"\"\"Reconstruct a _FullTupleDataCoordinate from a serialized dictionary.\"\"\"\u001b[39;00m\n\u001b[1;32m     11\u001b[0m \u001b[38;5;66;03m# Use Butler's DataCoordinate system to reconstruct the object\u001b[39;00m\n\u001b[0;32m---> 12\u001b[0m \u001b[38;5;28;01mreturn\u001b[39;00m \u001b[43mbutler\u001b[49m\u001b[38;5;241;43m.\u001b[39;49m\u001b[43mregistry\u001b[49m\u001b[38;5;241;43m.\u001b[39;49m\u001b[43mexpandDataId\u001b[49m\u001b[43m(\u001b[49m\u001b[43mserialized_data\u001b[49m\u001b[43m)\u001b[49m\n",
      "File \u001b[0;32m/opt/lsst/software/stack/conda/envs/lsst-scipipe-9.0.0/share/eups/Linux64/daf_butler/g7d9b803e8b+3f24962dee/python/lsst/daf/butler/_registry_shim.py:253\u001b[0m, in \u001b[0;36mRegistryShim.expandDataId\u001b[0;34m(self, dataId, dimensions, records, withDefaults, **kwargs)\u001b[0m\n\u001b[1;32m    243\u001b[0m \u001b[38;5;28;01mdef\u001b[39;00m \u001b[38;5;21mexpandDataId\u001b[39m(\n\u001b[1;32m    244\u001b[0m     \u001b[38;5;28mself\u001b[39m,\n\u001b[1;32m    245\u001b[0m     dataId: DataId \u001b[38;5;241m|\u001b[39m \u001b[38;5;28;01mNone\u001b[39;00m \u001b[38;5;241m=\u001b[39m \u001b[38;5;28;01mNone\u001b[39;00m,\n\u001b[0;32m   (...)\u001b[0m\n\u001b[1;32m    251\u001b[0m ) \u001b[38;5;241m-\u001b[39m\u001b[38;5;241m>\u001b[39m DataCoordinate:\n\u001b[1;32m    252\u001b[0m     \u001b[38;5;66;03m# Docstring inherited from a base class.\u001b[39;00m\n\u001b[0;32m--> 253\u001b[0m     \u001b[38;5;28;01mreturn\u001b[39;00m \u001b[38;5;28;43mself\u001b[39;49m\u001b[38;5;241;43m.\u001b[39;49m\u001b[43m_registry\u001b[49m\u001b[38;5;241;43m.\u001b[39;49m\u001b[43mexpandDataId\u001b[49m\u001b[43m(\u001b[49m\n\u001b[1;32m    254\u001b[0m \u001b[43m        \u001b[49m\u001b[43mdataId\u001b[49m\u001b[43m,\u001b[49m\u001b[43m \u001b[49m\u001b[43mdimensions\u001b[49m\u001b[38;5;241;43m=\u001b[39;49m\u001b[43mdimensions\u001b[49m\u001b[43m,\u001b[49m\u001b[43m \u001b[49m\u001b[43mrecords\u001b[49m\u001b[38;5;241;43m=\u001b[39;49m\u001b[43mrecords\u001b[49m\u001b[43m,\u001b[49m\u001b[43m \u001b[49m\u001b[43mwithDefaults\u001b[49m\u001b[38;5;241;43m=\u001b[39;49m\u001b[43mwithDefaults\u001b[49m\u001b[43m,\u001b[49m\u001b[43m \u001b[49m\u001b[38;5;241;43m*\u001b[39;49m\u001b[38;5;241;43m*\u001b[39;49m\u001b[43mkwargs\u001b[49m\n\u001b[1;32m    255\u001b[0m \u001b[43m    \u001b[49m\u001b[43m)\u001b[49m\n",
      "File \u001b[0;32m/opt/lsst/software/stack/conda/envs/lsst-scipipe-9.0.0/share/eups/Linux64/daf_butler/g7d9b803e8b+3f24962dee/python/lsst/daf/butler/registry/sql_registry.py:1545\u001b[0m, in \u001b[0;36mSqlRegistry.expandDataId\u001b[0;34m(self, dataId, dimensions, records, withDefaults, **kwargs)\u001b[0m\n\u001b[1;32m   1543\u001b[0m \u001b[38;5;28;01melse\u001b[39;00m:\n\u001b[1;32m   1544\u001b[0m     defaults \u001b[38;5;241m=\u001b[39m \u001b[38;5;28mself\u001b[39m\u001b[38;5;241m.\u001b[39mdefaults\u001b[38;5;241m.\u001b[39mdataId\n\u001b[0;32m-> 1545\u001b[0m standardized \u001b[38;5;241m=\u001b[39m \u001b[43mDataCoordinate\u001b[49m\u001b[38;5;241;43m.\u001b[39;49m\u001b[43mstandardize\u001b[49m\u001b[43m(\u001b[49m\n\u001b[1;32m   1546\u001b[0m \u001b[43m    \u001b[49m\u001b[43mdataId\u001b[49m\u001b[43m,\u001b[49m\n\u001b[1;32m   1547\u001b[0m \u001b[43m    \u001b[49m\u001b[43mdimensions\u001b[49m\u001b[38;5;241;43m=\u001b[39;49m\u001b[43mdimensions\u001b[49m\u001b[43m,\u001b[49m\n\u001b[1;32m   1548\u001b[0m \u001b[43m    \u001b[49m\u001b[43muniverse\u001b[49m\u001b[38;5;241;43m=\u001b[39;49m\u001b[38;5;28;43mself\u001b[39;49m\u001b[38;5;241;43m.\u001b[39;49m\u001b[43mdimensions\u001b[49m\u001b[43m,\u001b[49m\n\u001b[1;32m   1549\u001b[0m \u001b[43m    \u001b[49m\u001b[43mdefaults\u001b[49m\u001b[38;5;241;43m=\u001b[39;49m\u001b[43mdefaults\u001b[49m\u001b[43m,\u001b[49m\n\u001b[1;32m   1550\u001b[0m \u001b[43m    \u001b[49m\u001b[38;5;241;43m*\u001b[39;49m\u001b[38;5;241;43m*\u001b[39;49m\u001b[43mkwargs\u001b[49m\u001b[43m,\u001b[49m\n\u001b[1;32m   1551\u001b[0m \u001b[43m\u001b[49m\u001b[43m)\u001b[49m\n\u001b[1;32m   1552\u001b[0m \u001b[38;5;28;01mif\u001b[39;00m standardized\u001b[38;5;241m.\u001b[39mhasRecords():\n\u001b[1;32m   1553\u001b[0m     \u001b[38;5;28;01mreturn\u001b[39;00m standardized\n",
      "File \u001b[0;32m/opt/lsst/software/stack/conda/envs/lsst-scipipe-9.0.0/share/eups/Linux64/daf_butler/g7d9b803e8b+3f24962dee/python/lsst/daf/butler/dimensions/_coordinate.py:236\u001b[0m, in \u001b[0;36mDataCoordinate.standardize\u001b[0;34m(mapping, dimensions, universe, defaults, **kwargs)\u001b[0m\n\u001b[1;32m    234\u001b[0m         new_mapping\u001b[38;5;241m.\u001b[39mupdate((name, mapping[name]) \u001b[38;5;28;01mfor\u001b[39;00m name \u001b[38;5;129;01min\u001b[39;00m mapping\u001b[38;5;241m.\u001b[39mdimensions\u001b[38;5;241m.\u001b[39mimplied)\n\u001b[1;32m    235\u001b[0m \u001b[38;5;28;01melif\u001b[39;00m mapping \u001b[38;5;129;01mis\u001b[39;00m \u001b[38;5;129;01mnot\u001b[39;00m \u001b[38;5;28;01mNone\u001b[39;00m:\n\u001b[0;32m--> 236\u001b[0m     \u001b[43mnew_mapping\u001b[49m\u001b[38;5;241;43m.\u001b[39;49m\u001b[43mupdate\u001b[49m\u001b[43m(\u001b[49m\u001b[43mmapping\u001b[49m\u001b[43m)\u001b[49m\n\u001b[1;32m    237\u001b[0m new_mapping\u001b[38;5;241m.\u001b[39mupdate(kwargs)\n\u001b[1;32m    238\u001b[0m \u001b[38;5;28;01mif\u001b[39;00m dimensions \u001b[38;5;129;01mis\u001b[39;00m \u001b[38;5;28;01mNone\u001b[39;00m:\n",
      "\u001b[0;31mValueError\u001b[0m: dictionary update sequence element #0 has length 1; 2 is required"
     ]
    }
   ],
   "source": [
    "import lsst.daf.butler as daf_butler\n",
    "import json\n",
    "\n",
    "# Initialize the Butler (you will need this to work with the data)\n",
    "repo_path = '/repo/embargo'\n",
    "butler = daf_butler.Butler(repo_path)\n",
    "\n",
    "# Function to reconstruct a _FullTupleDataCoordinate from a serialized dictionary\n",
    "def reconstruct_data_id(serialized_data):\n",
    "    \"\"\"Reconstruct a _FullTupleDataCoordinate from a serialized dictionary.\"\"\"\n",
    "    # Use Butler's DataCoordinate system to reconstruct the object\n",
    "    return butler.registry.expandDataId(serialized_data)\n",
    "\n",
    "# Function to read from the output JSON file and reconstruct the list of _FullTupleDataCoordinate objects\n",
    "def read_and_reconstruct(file_path):\n",
    "    full_tuple_list = []\n",
    "\n",
    "    # Open and read the JSON file\n",
    "    with open(file_path, 'r') as file:\n",
    "        for line in file:\n",
    "            serialized_data = json.loads(line)\n",
    "            # Reconstruct the _FullTupleDataCoordinate from the serialized data\n",
    "            full_tuple_data_id = reconstruct_data_id(serialized_data)\n",
    "            full_tuple_list.append(full_tuple_data_id)\n",
    "\n",
    "    return full_tuple_list\n",
    "\n",
    "# Path to the JSON file that was written earlier\n",
    "file_path = 'outputfile.json'\n",
    "\n",
    "# Read and reconstruct the data\n",
    "reconstructed_data_ids = read_and_reconstruct(file_path)\n",
    "\n",
    "# Verify the output (optional print for testing)\n",
    "for data_id in reconstructed_data_ids:\n",
    "    print(data_id)\n"
   ]
  },
  {
   "cell_type": "code",
   "execution_count": 32,
   "id": "7a64b9f5-93cd-4e17-b4e7-01daba014866",
   "metadata": {
    "execution": {
     "iopub.execute_input": "2024-10-08T17:39:09.956472Z",
     "iopub.status.busy": "2024-10-08T17:39:09.955898Z",
     "iopub.status.idle": "2024-10-08T17:39:09.959314Z",
     "shell.execute_reply": "2024-10-08T17:39:09.958981Z",
     "shell.execute_reply.started": "2024-10-08T17:39:09.956457Z"
    },
    "scrolled": true
   },
   "outputs": [
    {
     "data": {
      "text/plain": [
       "lsst.daf.butler.dimensions._coordinate._FullTupleDataCoordinate"
      ]
     },
     "execution_count": 32,
     "metadata": {},
     "output_type": "execute_result"
    }
   ],
   "source": [
    "type(data_ref.dataId)"
   ]
  },
  {
   "cell_type": "code",
   "execution_count": 19,
   "id": "affeb529-1341-4bf2-b758-22b24ef4d755",
   "metadata": {
    "execution": {
     "iopub.execute_input": "2024-10-08T17:22:05.789447Z",
     "iopub.status.busy": "2024-10-08T17:22:05.789014Z",
     "iopub.status.idle": "2024-10-08T17:22:05.792503Z",
     "shell.execute_reply": "2024-10-08T17:22:05.792049Z",
     "shell.execute_reply.started": "2024-10-08T17:22:05.789431Z"
    }
   },
   "outputs": [
    {
     "data": {
      "text/plain": [
       "'{\"dataId\":{\"instrument\":\"LSSTComCam\",\"detector\":5,\"exposure\":2022111600060,\"band\":\"i\",\"day_obs\":20221116,\"group\":\"2022-11-16T19:58:36.713\",\"physical_filter\":\"i_06\"}}'"
      ]
     },
     "execution_count": 19,
     "metadata": {},
     "output_type": "execute_result"
    }
   ],
   "source": [
    "data_ref.dataId.to_json()"
   ]
  },
  {
   "cell_type": "code",
   "execution_count": 18,
   "id": "814574aa-c805-465a-ad8b-22ca2fb00f53",
   "metadata": {
    "execution": {
     "iopub.execute_input": "2024-10-08T17:21:43.229133Z",
     "iopub.status.busy": "2024-10-08T17:21:43.228579Z",
     "iopub.status.idle": "2024-10-08T17:21:43.232391Z",
     "shell.execute_reply": "2024-10-08T17:21:43.232029Z",
     "shell.execute_reply.started": "2024-10-08T17:21:43.229118Z"
    }
   },
   "outputs": [
    {
     "data": {
      "text/plain": [
       "['__annotations__',\n",
       " '__bool__',\n",
       " '__class__',\n",
       " '__contains__',\n",
       " '__delattr__',\n",
       " '__dir__',\n",
       " '__doc__',\n",
       " '__eq__',\n",
       " '__format__',\n",
       " '__ge__',\n",
       " '__getattr__',\n",
       " '__getattribute__',\n",
       " '__getitem__',\n",
       " '__getstate__',\n",
       " '__gt__',\n",
       " '__hash__',\n",
       " '__init__',\n",
       " '__init_subclass__',\n",
       " '__le__',\n",
       " '__lt__',\n",
       " '__module__',\n",
       " '__ne__',\n",
       " '__new__',\n",
       " '__reduce__',\n",
       " '__reduce_ex__',\n",
       " '__repr__',\n",
       " '__setattr__',\n",
       " '__sizeof__',\n",
       " '__slots__',\n",
       " '__str__',\n",
       " '__subclasshook__',\n",
       " '_dimensions',\n",
       " '_record',\n",
       " '_serializedType',\n",
       " '_values',\n",
       " 'dimensions',\n",
       " 'expanded',\n",
       " 'from_full_values',\n",
       " 'from_json',\n",
       " 'from_required_values',\n",
       " 'from_simple',\n",
       " 'full_values',\n",
       " 'get',\n",
       " 'hasFull',\n",
       " 'hasRecords',\n",
       " 'makeEmpty',\n",
       " 'make_empty',\n",
       " 'mapping',\n",
       " 'records',\n",
       " 'region',\n",
       " 'required',\n",
       " 'required_values',\n",
       " 'standardize',\n",
       " 'subset',\n",
       " 'timespan',\n",
       " 'to_json',\n",
       " 'to_simple',\n",
       " 'union',\n",
       " 'universe']"
      ]
     },
     "execution_count": 18,
     "metadata": {},
     "output_type": "execute_result"
    }
   ],
   "source": [
    "dir(data_ref.dataId)"
   ]
  },
  {
   "cell_type": "code",
   "execution_count": null,
   "id": "2ec8dfc4-8c0f-4759-99e8-989980aa094e",
   "metadata": {},
   "outputs": [],
   "source": []
  }
 ],
 "metadata": {
  "kernelspec": {
   "display_name": "LSST",
   "language": "python",
   "name": "lsst"
  },
  "language_info": {
   "codemirror_mode": {
    "name": "ipython",
    "version": 3
   },
   "file_extension": ".py",
   "mimetype": "text/x-python",
   "name": "python",
   "nbconvert_exporter": "python",
   "pygments_lexer": "ipython3",
   "version": "3.11.9"
  }
 },
 "nbformat": 4,
 "nbformat_minor": 5
}
